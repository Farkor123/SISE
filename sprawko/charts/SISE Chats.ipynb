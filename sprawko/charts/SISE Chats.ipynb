{
 "cells": [
  {
   "cell_type": "code",
   "execution_count": 1,
   "metadata": {},
   "outputs": [],
   "source": [
    "import pandas as pd\n",
    "import numpy as np\n",
    "import matplotlib.pyplot as plt\n",
    "from matplotlib.pyplot import cm"
   ]
  },
  {
   "cell_type": "code",
   "execution_count": 2,
   "metadata": {},
   "outputs": [
    {
     "ename": "FileNotFoundError",
     "evalue": "[Errno 2] No such file or directory: '../../tests/inputs/out.txt'",
     "output_type": "error",
     "traceback": [
      "\u001b[0;31m---------------------------------------------------------------------------\u001b[0m",
      "\u001b[0;31mFileNotFoundError\u001b[0m                         Traceback (most recent call last)",
      "\u001b[0;32m<ipython-input-2-2e16ac2e9210>\u001b[0m in \u001b[0;36m<module>\u001b[0;34m()\u001b[0m\n\u001b[1;32m      1\u001b[0m \u001b[0;31m#import to pandas\u001b[0m\u001b[0;34m\u001b[0m\u001b[0;34m\u001b[0m\u001b[0m\n\u001b[0;32m----> 2\u001b[0;31m \u001b[0mdata_file\u001b[0m \u001b[0;34m=\u001b[0m \u001b[0mopen\u001b[0m\u001b[0;34m(\u001b[0m\u001b[0;34m\"../../tests/inputs/out.txt\"\u001b[0m\u001b[0;34m)\u001b[0m\u001b[0;34m\u001b[0m\u001b[0m\n\u001b[0m\u001b[1;32m      3\u001b[0m \u001b[0mresults\u001b[0m \u001b[0;34m=\u001b[0m \u001b[0mpd\u001b[0m\u001b[0;34m.\u001b[0m\u001b[0mread_csv\u001b[0m\u001b[0;34m(\u001b[0m\u001b[0mdata_file\u001b[0m\u001b[0;34m,\u001b[0m\u001b[0mheader\u001b[0m\u001b[0;34m=\u001b[0m\u001b[0;32mNone\u001b[0m\u001b[0;34m,\u001b[0m\u001b[0msep\u001b[0m\u001b[0;34m=\u001b[0m\u001b[0;34m\" \"\u001b[0m\u001b[0;34m)\u001b[0m\u001b[0;34m\u001b[0m\u001b[0m\n\u001b[1;32m      4\u001b[0m \u001b[0mnames\u001b[0m \u001b[0;34m=\u001b[0m \u001b[0;34m[\u001b[0m\u001b[0;34m\"solution_depth\"\u001b[0m\u001b[0;34m,\u001b[0m\u001b[0;34m\"example_no\"\u001b[0m\u001b[0;34m,\u001b[0m\u001b[0;34m\"algorithm\"\u001b[0m\u001b[0;34m,\u001b[0m\u001b[0;34m\"policy\"\u001b[0m\u001b[0;34m,\u001b[0m\u001b[0;34m\"path_length\"\u001b[0m\u001b[0;34m,\u001b[0m\u001b[0;34m\"visited\"\u001b[0m\u001b[0;34m,\u001b[0m\u001b[0;34m\"processed\"\u001b[0m\u001b[0;34m,\u001b[0m\u001b[0;34m\"recursed\"\u001b[0m\u001b[0;34m,\u001b[0m\u001b[0;34m\"time\"\u001b[0m\u001b[0;34m]\u001b[0m\u001b[0;34m\u001b[0m\u001b[0m\n\u001b[1;32m      5\u001b[0m \u001b[0mresults\u001b[0m\u001b[0;34m.\u001b[0m\u001b[0mcolumns\u001b[0m\u001b[0;34m=\u001b[0m\u001b[0mnames\u001b[0m\u001b[0;34m\u001b[0m\u001b[0m\n",
      "\u001b[0;31mFileNotFoundError\u001b[0m: [Errno 2] No such file or directory: '../../tests/inputs/out.txt'"
     ]
    }
   ],
   "source": [
    "#import to pandas\n",
    "data_file = open(\"../../tests/inputs/out.txt\")\n",
    "results = pd.read_csv(data_file,header=None,sep=\" \")\n",
    "names = [\"solution_depth\",\"example_no\",\"algorithm\",\"policy\",\"path_length\",\"visited\",\"processed\",\"recursed\",\"time\"]\n",
    "results.columns=names\n",
    "results.head()"
   ]
  },
  {
   "cell_type": "code",
   "execution_count": null,
   "metadata": {},
   "outputs": [],
   "source": [
    "def get_color_iter(lenght):\n",
    "    return iter(cm.Dark2(np.linspace(0, 1, lenght)))"
   ]
  },
  {
   "cell_type": "code",
   "execution_count": null,
   "metadata": {},
   "outputs": [],
   "source": [
    "column_chart_name={\n",
    "    \"visited\":\"Średnia ilość odwiedzonych stanów\",\n",
    "    \"path_length\":\"Średnia długość rozwiązania\",\n",
    "    \"processed\":\"Średnia ilość przetworzonych stanów\",\n",
    "    \"recursed\":\"Średnia maksymalna głębokość rekursji\",\n",
    "    \"time\":\"Średnia czas przetwarzania [s]\"\n",
    "}"
   ]
  },
  {
   "cell_type": "code",
   "execution_count": null,
   "metadata": {},
   "outputs": [],
   "source": [
    "def resultAlgFromStr(alg_name):\n",
    "    return results[results.algorithm == str(alg_name)]"
   ]
  },
  {
   "cell_type": "code",
   "execution_count": null,
   "metadata": {},
   "outputs": [],
   "source": [
    "def avg(name,data_label):\n",
    "    data = resultAlgFromStr(name)\n",
    "    avgs=[]\n",
    "    max_solution_depth = max(results.solution_depth)\n",
    "    for sol_depth in range(1,max_solution_depth+1):\n",
    "        current_solution = data[data.solution_depth==sol_depth]\n",
    "        avgs.append(np.average(current_solution[data_label]))\n",
    "    return avgs"
   ]
  },
  {
   "cell_type": "code",
   "execution_count": null,
   "metadata": {},
   "outputs": [],
   "source": [
    "def plotThreeAlgs(series_name):\n",
    "    width = 0.25\n",
    "    bfs_avg = avg(\"bfs\",series_name)\n",
    "    dfs_avg = avg(\"dfs\",series_name)\n",
    "    astr_avg = avg(\"astr\",series_name)\n",
    "\n",
    "    max_solution_depth = max(results.solution_depth)\n",
    "    pos = np.arange(max_solution_depth)+1\n",
    "    colors= get_color_iter(3)\n",
    "    plt.bar(pos-(width*1.5),bfs_avg,width,label=\"bfs\", color = next(colors),align=\"edge\")\n",
    "    plt.bar(pos,dfs_avg,width,label=\"dfs\", color = \"lime\")\n",
    "    plt.bar(pos+width*0.5,bfs_avg,width,label=\"astr\", color = next(colors),align=\"edge\")\n",
    "    plt.minorticks_on()\n",
    "    plt.grid(True,which=\"major\",axis=\"y\",ls=\"--\", color=\"black\")\n",
    "    plt.legend(title=\"ALgorytm:\")\n",
    "    plt.xlabel(\"Głębokość rozwiązania\")"
   ]
  },
  {
   "cell_type": "code",
   "execution_count": null,
   "metadata": {},
   "outputs": [],
   "source": [
    "def plot_all_algs(series_name,ycale=\"log\"):\n",
    "    plotThreeAlgs(series_name)\n",
    "    plt.ylabel(column_chart_name[series_name])\n",
    "    plt.title(\"Wszystkie algorytmy: \"+ column_chart_name[series_name])\n",
    "    plt.yscale(ycale)\n",
    "    plt.savefig(\"ALL_\"+series_name)\n",
    "    plt.show()"
   ]
  },
  {
   "cell_type": "code",
   "execution_count": null,
   "metadata": {},
   "outputs": [],
   "source": [
    "plot_all_algs(\"visited\")\n",
    "plot_all_algs(\"path_length\",\"linear\")\n",
    "plot_all_algs(\"processed\")\n",
    "plot_all_algs(\"recursed\",\"linear\")\n",
    "plot_all_algs(\"time\")"
   ]
  },
  {
   "cell_type": "code",
   "execution_count": null,
   "metadata": {},
   "outputs": [],
   "source": [
    "overview = results.groupby([\"algorithm\",\"solution_depth\"]).mean()\n",
    "overview"
   ]
  },
  {
   "cell_type": "code",
   "execution_count": null,
   "metadata": {
    "scrolled": true
   },
   "outputs": [],
   "source": [
    "overview2 = results.groupby([\"solution_depth\",\"algorithm\"],as_index=False).mean()\n",
    "overview2"
   ]
  },
  {
   "cell_type": "code",
   "execution_count": null,
   "metadata": {},
   "outputs": [],
   "source": []
  },
  {
   "cell_type": "code",
   "execution_count": null,
   "metadata": {},
   "outputs": [],
   "source": [
    "bad_bfs = results[(results.solution_depth!=results.path_length)]\n",
    "bad_bfs[bad_bfs.algorithm==\"bfs\"]"
   ]
  },
  {
   "cell_type": "code",
   "execution_count": null,
   "metadata": {
    "scrolled": true
   },
   "outputs": [],
   "source": [
    "overview3 = results.groupby([\"algorithm\",\"solution_depth\",\"policy\"],as_index=False).mean()\n",
    "overview3.head()"
   ]
  },
  {
   "cell_type": "code",
   "execution_count": null,
   "metadata": {},
   "outputs": [],
   "source": [
    "    astr = overview3[overview3.algorithm==\"astr\"]\n",
    "    astr = astr.drop([\"example_no\"],axis = 1)\n",
    "    hamm= astr[astr.policy==\"hamm\"]\n",
    "    manh = astr[astr.policy==\"manh\"]\n",
    "    manh"
   ]
  },
  {
   "cell_type": "code",
   "execution_count": null,
   "metadata": {},
   "outputs": [],
   "source": [
    "def a_str_plot_series(series):\n",
    "    width = 0.3\n",
    "    colors= get_color_iter(2)\n",
    "    plt.bar(manh.solution_depth-width/2,manh[series],width, label = \"manhatan\",color = next(colors))\n",
    "    plt.bar(hamm.solution_depth+width/2,hamm[series],width, label = \"hamminga\", color = next(colors))\n",
    "    plt.xlabel(\"Głębokość rozwiązania\")\n",
    "    plt.minorticks_on()\n",
    "    plt.grid(True,which=\"major\",axis=\"y\",ls=\"--\", color=\"black\")\n",
    "    plt.grid(True,which=\"minor\",axis=\"y\",ls=\"--\")\n",
    "    plt.legend(title=\"Metryki:\")"
   ]
  },
  {
   "cell_type": "code",
   "execution_count": null,
   "metadata": {},
   "outputs": [],
   "source": [
    "def astr_plot(series_name,yscale=\"linear\"):\n",
    "    a_str_plot_series(series_name)\n",
    "    plt.yscale(yscale)\n",
    "    plt.ylabel(column_chart_name[series_name])\n",
    "    plt.title(\"A*:\"+column_chart_name[series_name])\n",
    "    plt.savefig(\"ASTR_\"+series_name)\n",
    "    plt.show()"
   ]
  },
  {
   "cell_type": "code",
   "execution_count": null,
   "metadata": {
    "scrolled": true
   },
   "outputs": [],
   "source": [
    "astr_plot(\"visited\",\"log\")\n",
    "astr_plot(\"processed\",\"log\")\n",
    "astr_plot(\"recursed\")\n",
    "astr_plot(\"path_length\")\n",
    "astr_plot(\"time\",\"log\")\n"
   ]
  },
  {
   "cell_type": "code",
   "execution_count": null,
   "metadata": {},
   "outputs": [],
   "source": [
    "def plot_multi_bar(df, series, ylabel, yscale=\"log\"):\n",
    "    plt.rc('xtick', labelsize=15)\n",
    "    plt.rc('ytick', labelsize=15)\n",
    "    plt.rc('legend', fontsize=12)\n",
    "    plt.rc('axes', titlesize=15)\n",
    "    \n",
    "    fig = plt.figure(figsize=(18,9),dpi=400)\n",
    "    ax1 = fig.add_subplot(111)\n",
    "\n",
    "    bar_x_tick = []\n",
    "    bar_x_label =[]\n",
    "    bar_width = 0.1\n",
    "    \n",
    "    policies = list(set(df.policy))\n",
    "    policy_len = len(policies)\n",
    "    \n",
    "    bar_number = policy_len\n",
    "    start_x = np.arange(1,policy_len)-(bar_number*bar_width)/2\n",
    "    colors = get_color_iter(policy_len)\n",
    "    \n",
    "    for no,pol in enumerate(policies):\n",
    "        data = df[df.policy==pol]\n",
    "        bar_pos = start_x+no*bar_width\n",
    "        bar_x_tick.extend(bar_pos)\n",
    "        bar_x_label.extend([pol]*7)\n",
    "        ax1.bar(bar_pos,\n",
    "                data[series],\n",
    "                bar_width,\n",
    "                align=\"edge\",\n",
    "                label = pol,\n",
    "                color=next(colors))\n",
    "\n",
    "    ax1.set_xlabel(\"Porządki przechodzenia\")\n",
    "    ax1.grid(True)\n",
    "\n",
    "    ax2 = ax1.twiny()\n",
    "    ax2.set_xlabel(\"Głębokość rozwiązania\")\n",
    "    ax1.set_ylabel(ylabel)\n",
    "\n",
    "    ax2.set_xticks(range(0,8))\n",
    "    ax2.set_xbound(ax1.get_xbound())\n",
    "    ax1.set_xticks(bar_x_tick)\n",
    "\n",
    "    ax1.set_xticklabels(bar_x_label, rotation='vertical')\n",
    "    ax1.set_yscale(yscale)\n",
    "    ax1.legend(title=\"Porządki:\")"
   ]
  },
  {
   "cell_type": "code",
   "execution_count": null,
   "metadata": {
    "scrolled": false
   },
   "outputs": [],
   "source": [
    "bfs = overview3[overview3.algorithm==\"bfs\"]\n",
    "dfs = overview3[overview3.algorithm==\"dfs\"]"
   ]
  },
  {
   "cell_type": "code",
   "execution_count": null,
   "metadata": {},
   "outputs": [],
   "source": [
    "def plot_dfs(data_series,yscale=\"log\"): \n",
    "    plot_multi_bar(dfs,data_series,column_chart_name[data_series],yscale)\n",
    "    plt.title(\"DFS:\"+column_chart_name[data_series])\n",
    "    plt.savefig(\"DFS_\"+data_series, bbox_inches='tight')\n",
    "    plt.show()"
   ]
  },
  {
   "cell_type": "code",
   "execution_count": null,
   "metadata": {},
   "outputs": [],
   "source": [
    "def plot_bfs(data_series,yscale=\"log\"): \n",
    "    plot_multi_bar(bfs,data_series,column_chart_name[data_series],yscale)\n",
    "    plt.title(\"BFS:\"+column_chart_name[data_series])\n",
    "    plt.savefig(\"BFS_\"+data_series, bbox_inches='tight')\n",
    "    plt.show()"
   ]
  },
  {
   "cell_type": "code",
   "execution_count": null,
   "metadata": {},
   "outputs": [],
   "source": [
    "plot_dfs(\"visited\")\n",
    "plot_dfs(\"path_length\",\"linear\")\n",
    "plot_dfs(\"processed\")\n",
    "plot_dfs(\"recursed\",\"linear\")\n",
    "plot_dfs(\"time\")"
   ]
  },
  {
   "cell_type": "code",
   "execution_count": null,
   "metadata": {},
   "outputs": [],
   "source": [
    "plot_bfs(\"visited\")\n",
    "plot_bfs(\"path_length\",\"linear\")\n",
    "plot_bfs(\"processed\")\n",
    "plot_bfs(\"recursed\",\"linear\")\n",
    "plot_bfs(\"time\")"
   ]
  },
  {
   "cell_type": "code",
   "execution_count": null,
   "metadata": {},
   "outputs": [],
   "source": []
  }
 ],
 "metadata": {
  "kernelspec": {
   "display_name": "Python 3",
   "language": "python",
   "name": "python3"
  },
  "language_info": {
   "codemirror_mode": {
    "name": "ipython",
    "version": 3
   },
   "file_extension": ".py",
   "mimetype": "text/x-python",
   "name": "python",
   "nbconvert_exporter": "python",
   "pygments_lexer": "ipython3",
   "version": "3.7.0"
  }
 },
 "nbformat": 4,
 "nbformat_minor": 2
}
